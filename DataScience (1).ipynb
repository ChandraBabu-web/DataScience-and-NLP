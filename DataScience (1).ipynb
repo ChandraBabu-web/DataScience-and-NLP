{
  "nbformat": 4,
  "nbformat_minor": 0,
  "metadata": {
    "colab": {
      "provenance": []
    },
    "kernelspec": {
      "name": "python3",
      "display_name": "Python 3"
    },
    "language_info": {
      "name": "python"
    },
    "gpuClass": "standard",
    "accelerator": "GPU"
  },
  "cells": [
    {
      "cell_type": "code",
      "execution_count": null,
      "metadata": {
        "id": "3GtRsc43BJv6"
      },
      "outputs": [],
      "source": [
        "#WEB SCRAPPING \n",
        "\n",
        "# Imports\n",
        "import requests\n",
        "from bs4 import BeautifulSoup\n"
      ]
    },
    {
      "cell_type": "code",
      "source": [
        "URL_LIST=[\"https://insights.blackcoffer.com/ai-in-healthcare-to-improve-patient-outcomes/\",\n",
        "\"https://insights.blackcoffer.com/what-if-the-creation-is-taking-over-the-creator/\",\n",
        "\"https://insights.blackcoffer.com/what-jobs-will-robots-take-from-humans-in-the-future/\",\n",
        "\"https://insights.blackcoffer.com/will-machine-replace-the-human-in-the-future-of-work/\",\n",
        "\"https://insights.blackcoffer.com/will-ai-replace-us-or-work-with-us/\",\n",
        "\"https://insights.blackcoffer.com/man-and-machines-together-machines-are-more-diligent-than-humans-blackcoffe/\",\n",
        "\"https://insights.blackcoffer.com/in-future-or-in-upcoming-years-humans-and-machines-are-going-to-work-together-in-every-field-of-work/\",\n",
        "\"https://insights.blackcoffer.com/how-neural-networks-can-be-applied-in-various-areas-in-the-future/\",\n",
        "\"https://insights.blackcoffer.com/how-machine-learning-will-affect-your-business/\",\n",
        "\"https://insights.blackcoffer.com/deep-learning-impact-on-areas-of-e-learning/\",\n",
        "\"https://insights.blackcoffer.com/how-to-protect-future-data-and-its-privacy-blackcoffer/\",\n",
        "\"https://insights.blackcoffer.com/how-machines-ai-automations-and-robo-human-are-effective-in-finance-and-banking/\",\n",
        "\"https://insights.blackcoffer.com/ai-human-robotics-machine-future-planet-blackcoffer-thinking-jobs-workplace/\",\n",
        "\"https://insights.blackcoffer.com/how-ai-will-change-the-world-blackcoffer/\",\n",
        "\"https://insights.blackcoffer.com/future-of-work-how-ai-has-entered-the-workplace/\",\n",
        "\"https://insights.blackcoffer.com/ai-tool-alexa-google-assistant-finance-banking-tool-future/\",\n",
        "\"https://insights.blackcoffer.com/ai-healthcare-revolution-ml-technology-algorithm-google-analytics-industrialrevolution/\",\n",
        "\"https://insights.blackcoffer.com/all-you-need-to-know-about-online-marketing/\",\n",
        "\"https://insights.blackcoffer.com/evolution-of-advertising-industry/\",\n",
        "\"https://insights.blackcoffer.com/how-data-analytics-can-help-your-business-respond-to-the-impact-of-covid-19/\",\n",
        "\"https://insights.blackcoffer.com/covid-19-environmental-impact-for-the-future/\",\n",
        "\"https://insights.blackcoffer.com/environmental-impact-of-the-covid-19-pandemic-lesson-for-the-future/\",\n",
        "\"https://insights.blackcoffer.com/how-data-analytics-and-ai-are-used-to-halt-the-covid-19-pandemic/\",\n",
        "\"https://insights.blackcoffer.com/difference-between-artificial-intelligence-machine-learning-statistics-and-data-mining/\",\"https://insights.blackcoffer.com/how-python-became-the-first-choice-for-data-science/\",\n",
        "\"https://insights.blackcoffer.com/how-google-fit-measure-heart-and-respiratory-rates-using-a-phone/\",\n",
        "\"https://insights.blackcoffer.com/what-is-the-future-of-mobile-apps/\",\n",
        "\"https://insights.blackcoffer.com/impact-of-ai-in-health-and-medicine/\",\n",
        "\"https://insights.blackcoffer.com/telemedicine-what-patients-like-and-dislike-about-it/\",\n",
        "\"https://insights.blackcoffer.com/how-we-forecast-future-technologies/\",\n",
        "\"https://insights.blackcoffer.com/can-robots-tackle-late-life-loneliness/\",\n",
        "\"https://insights.blackcoffer.com/embedding-care-robots-into-society-socio-technical-considerations/\",\n",
        "\"https://insights.blackcoffer.com/management-challenges-for-future-digitalization-of-healthcare-services/\",\n",
        "\"https://insights.blackcoffer.com/are-we-any-closer-to-preventing-a-nuclear-holocaust/\",\n",
        "\"https://insights.blackcoffer.com/will-technology-eliminate-the-need-for-animal-testing-in-drug-development/\",\n",
        "\"https://insights.blackcoffer.com/will-we-ever-understand-the-nature-of-consciousness/\",\n",
        "\"https://insights.blackcoffer.com/will-we-ever-colonize-outer-space/\",\n",
        "\"https://insights.blackcoffer.com/what-is-the-chance-homo-sapiens-will-survive-for-the-next-500-years/\",\n",
        "\"https://insights.blackcoffer.com/why-does-your-business-need-a-chatbot/\",\n",
        "\"https://insights.blackcoffer.com/how-you-lead-a-project-or-a-team-without-any-technical-expertise/\",\n",
        "\"https://insights.blackcoffer.com/can-you-be-great-leader-without-technical-expertise/\",\n",
        "\"https://insights.blackcoffer.com/how-does-artificial-intelligence-affect-the-environment/\",\n",
        "\"https://insights.blackcoffer.com/how-to-overcome-your-fear-of-making-mistakes-2/\",\n",
        "\"https://insights.blackcoffer.com/is-perfection-the-greatest-enemy-of-productivity/\",\n",
        "\"https://insights.blackcoffer.com/global-financial-crisis-2008-causes-effects-and-its-solution/\",\n",
        "\"https://insights.blackcoffer.com/gender-diversity-and-equality-in-the-tech-industry/\",\n",
        "\"https://insights.blackcoffer.com/how-to-overcome-your-fear-of-making-mistakes/\",\n",
        "\"https://insights.blackcoffer.com/how-small-business-can-survive-the-coronavirus-crisis/\",\n",
        "\"https://insights.blackcoffer.com/impacts-of-covid-19-on-vegetable-vendors-and-food-stalls/\",\n",
        "\"https://insights.blackcoffer.com/impacts-of-covid-19-on-vegetable-vendors/\",\n",
        "\"https://insights.blackcoffer.com/impact-of-covid-19-pandemic-on-tourism-aviation-industries/\",\n",
        "\"https://insights.blackcoffer.com/impact-of-covid-19-pandemic-on-sports-events-around-the-world/\",\n",
        "\"https://insights.blackcoffer.com/changing-landscape-and-emerging-trends-in-the-indian-it-ites-industry/\",\n",
        "\"https://insights.blackcoffer.com/online-gaming-adolescent-online-gaming-effects-demotivated-depression-musculoskeletal-and-psychosomatic-symptoms/\",\n",
        "\"https://insights.blackcoffer.com/human-rights-outlook/\",\n",
        "\"https://insights.blackcoffer.com/how-voice-search-makes-your-business-a-successful-business/\",\n",
        "\"https://insights.blackcoffer.com/how-the-covid-19-crisis-is-redefining-jobs-and-services/\",\n",
        "\"https://insights.blackcoffer.com/how-to-increase-social-media-engagement-for-marketers/\",\n",
        "\"https://insights.blackcoffer.com/impacts-of-covid-19-on-streets-sides-food-stalls/\",\n",
        "\"https://insights.blackcoffer.com/coronavirus-impact-on-energy-markets-2/\",\n",
        "\"https://insights.blackcoffer.com/coronavirus-impact-on-the-hospitality-industry-5/\",\n",
        "\"https://insights.blackcoffer.com/lessons-from-the-past-some-key-learnings-relevant-to-the-coronavirus-crisis-4/\",\n",
        "\"https://insights.blackcoffer.com/estimating-the-impact-of-covid-19-on-the-world-of-work-2/\",\n",
        "\"https://insights.blackcoffer.com/estimating-the-impact-of-covid-19-on-the-world-of-work-3/\",\n",
        "\"https://insights.blackcoffer.com/travel-and-tourism-outlook/\",\n",
        "\"https://insights.blackcoffer.com/gaming-disorder-and-effects-of-gaming-on-health/\",\n",
        "\"https://insights.blackcoffer.com/what-is-the-repercussion-of-the-environment-due-to-the-covid-19-pandemic-situation/\",\n",
        "\"https://insights.blackcoffer.com/what-is-the-repercussion-of-the-environment-due-to-the-covid-19-pandemic-situation-2/\",\n",
        "\"https://insights.blackcoffer.com/impact-of-covid-19-pandemic-on-office-space-and-co-working-industries/\",\n",
        "\"https://insights.blackcoffer.com/contribution-of-handicrafts-visual-arts-literature-in-the-indian-economy/\",\n",
        "\"https://insights.blackcoffer.com/how-covid-19-is-impacting-payment-preferences/\",\n",
        "\"https://insights.blackcoffer.com/how-will-covid-19-affect-the-world-of-work-2/\",\n",
        "\"https://insights.blackcoffer.com/lessons-from-the-past-some-key-learnings-relevant-to-the-coronavirus-crisis/\",\n",
        "\"https://insights.blackcoffer.com/covid-19-how-have-countries-been-responding/\",\n",
        "\"https://insights.blackcoffer.com/coronavirus-impact-on-the-hospitality-industry-2/\",\n",
        "\"https://insights.blackcoffer.com/how-will-covid-19-affect-the-world-of-work-3/\",\n",
        "\"https://insights.blackcoffer.com/coronavirus-impact-on-the-hospitality-industry-3/\",\n",
        "\"https://insights.blackcoffer.com/estimating-the-impact-of-covid-19-on-the-world-of-work/\",\n",
        "\"https://insights.blackcoffer.com/covid-19-how-have-countries-been-responding-2/\",\n",
        "\"https://insights.blackcoffer.com/how-will-covid-19-affect-the-world-of-work-4/\",\n",
        "\"https://insights.blackcoffer.com/lessons-from-the-past-some-key-learnings-relevant-to-the-coronavirus-crisis-2/\",\n",
        "\"https://insights.blackcoffer.com/lessons-from-the-past-some-key-learnings-relevant-to-the-coronavirus-crisis-3/\",\n",
        "\"https://insights.blackcoffer.com/coronavirus-impact-on-the-hospitality-industry-4/\",\n",
        "\"https://insights.blackcoffer.com/why-scams-like-nirav-modi-happen-with-indian-banks/\",\n",
        "\"https://insights.blackcoffer.com/impact-of-covid-19-on-the-global-economy/\",\n",
        "\"https://insights.blackcoffer.com/impact-of-covid-19coronavirus-on-the-indian-economy-2/\",\n",
        "\"https://insights.blackcoffer.com/impact-of-covid-19-on-the-global-economy-2/\",\n",
        "\"https://insights.blackcoffer.com/impact-of-covid-19-coronavirus-on-the-indian-economy-3/\",\n",
        "\"https://insights.blackcoffer.com/should-celebrities-be-allowed-to-join-politics/\",\n",
        "\"https://insights.blackcoffer.com/how-prepared-is-india-to-tackle-a-possible-covid-19-outbreak/\",\n",
        "\"https://insights.blackcoffer.com/how-will-covid-19-affect-the-world-of-work/\",\n",
        "\"https://insights.blackcoffer.com/controversy-as-a-marketing-strategy/\",\n",
        "\"https://insights.blackcoffer.com/coronavirus-impact-on-the-hospitality-industry/\",\n",
        "\"https://insights.blackcoffer.com/coronavirus-impact-on-energy-markets/\",\n",
        "\"https://insights.blackcoffer.com/what-are-the-key-policies-that-will-mitigate-the-impacts-of-covid-19-on-the-world-of-work/\",\n",
        "\"https://insights.blackcoffer.com/marketing-drives-results-with-a-focus-on-problems/\",\n",
        "\"https://insights.blackcoffer.com/continued-demand-for-sustainability/\",\n",
        "\"https://insights.blackcoffer.com/coronavirus-disease-covid-19-effect-the-impact-and-role-of-mass-media-during-the-pandemic/\",\n",
        "\"https://insights.blackcoffer.com/should-people-wear-fabric-gloves-seeking-evidence-regarding-the-differential-transfer-of-covid-19-or-coronaviruses-generally-between-surfaces/\",\n",
        "\"https://insights.blackcoffer.com/why-is-there-a-severe-immunological-and-inflammatory-explosion-in-those-affected-by-sarms-covid-19/\",\n",
        "\"https://insights.blackcoffer.com/what-do-you-think-is-the-lesson-or-lessons-to-be-learned-with-covid-19/\",\n",
        "\"https://insights.blackcoffer.com/coronavirus-the-unexpected-challenge-for-the-european-union/\",\n",
        "\"https://insights.blackcoffer.com/industrial-revolution-4-0-pros-and-cons/\",\n",
        "\"https://insights.blackcoffer.com/impact-of-covid-19-coronavirus-on-the-indian-economy/\",\n",
        "\"https://insights.blackcoffer.com/impact-of-covid-19-coronavirus-on-the-indian-economy-2/\",\n",
        "\"https://insights.blackcoffer.com/impact-of-covid-19coronavirus-on-the-indian-economy/\",\n",
        "\"https://insights.blackcoffer.com/impact-of-covid-19-coronavirus-on-the-global-economy/\",\n",
        "\"https://insights.blackcoffer.com/ensuring-growth-through-insurance-technology/\",\n",
        "\"https://insights.blackcoffer.com/blockchain-in-fintech/\",\n",
        "\"https://insights.blackcoffer.com/blockchain-for-payments/\",\n",
        "\"https://insights.blackcoffer.com/the-future-of-investing/\",\n",
        "\"https://insights.blackcoffer.com/big-data-analytics-in-healthcare/\",\n",
        "\"https://insights.blackcoffer.com/business-analytics-in-the-healthcare-industry/\",\n",
        "\"https://insights.blackcoffer.com/challenges-and-opportunities-of-big-data-in-healthcare/\"]\n"
      ],
      "metadata": {
        "id": "cwHw1UgkYPSr"
      },
      "execution_count": null,
      "outputs": []
    },
    {
      "cell_type": "code",
      "source": [
        "j=1\n",
        "for i in URL_LIST: # TO get the data from all the links\n",
        "  page = requests.get(i)\n",
        "  if(page.status_code==200):\n",
        "    print(\"Data is fetched\",i)\n",
        "    soup=BeautifulSoup(page.content,\"html.parser\")#To extract all the data from the webpage\n",
        "    output_data=(soup.text) #Storing cleaned text in a variable\n",
        "    filename = f\"URL_ID{j}.txt\" #To create a unique filename\n",
        "    with open(filename, \"w\") as file:\n",
        "      file.write(output_data)\n",
        "      j=j+1\n",
        "      output_data=[] \n",
        "\n",
        "     "
      ],
      "metadata": {
        "id": "NgWns9TvEKAg",
        "colab": {
          "base_uri": "https://localhost:8080/"
        },
        "outputId": "a97c90aa-7dd2-40e7-98b1-450243b6144f"
      },
      "execution_count": null,
      "outputs": [
        {
          "output_type": "stream",
          "name": "stdout",
          "text": [
            "Data is fetched https://insights.blackcoffer.com/ai-in-healthcare-to-improve-patient-outcomes/\n",
            "Data is fetched https://insights.blackcoffer.com/what-if-the-creation-is-taking-over-the-creator/\n",
            "Data is fetched https://insights.blackcoffer.com/what-jobs-will-robots-take-from-humans-in-the-future/\n",
            "Data is fetched https://insights.blackcoffer.com/will-machine-replace-the-human-in-the-future-of-work/\n",
            "Data is fetched https://insights.blackcoffer.com/will-ai-replace-us-or-work-with-us/\n",
            "Data is fetched https://insights.blackcoffer.com/man-and-machines-together-machines-are-more-diligent-than-humans-blackcoffe/\n",
            "Data is fetched https://insights.blackcoffer.com/in-future-or-in-upcoming-years-humans-and-machines-are-going-to-work-together-in-every-field-of-work/\n",
            "Data is fetched https://insights.blackcoffer.com/how-machine-learning-will-affect-your-business/\n",
            "Data is fetched https://insights.blackcoffer.com/deep-learning-impact-on-areas-of-e-learning/\n",
            "Data is fetched https://insights.blackcoffer.com/how-to-protect-future-data-and-its-privacy-blackcoffer/\n",
            "Data is fetched https://insights.blackcoffer.com/how-machines-ai-automations-and-robo-human-are-effective-in-finance-and-banking/\n",
            "Data is fetched https://insights.blackcoffer.com/ai-human-robotics-machine-future-planet-blackcoffer-thinking-jobs-workplace/\n",
            "Data is fetched https://insights.blackcoffer.com/how-ai-will-change-the-world-blackcoffer/\n",
            "Data is fetched https://insights.blackcoffer.com/future-of-work-how-ai-has-entered-the-workplace/\n",
            "Data is fetched https://insights.blackcoffer.com/ai-tool-alexa-google-assistant-finance-banking-tool-future/\n",
            "Data is fetched https://insights.blackcoffer.com/ai-healthcare-revolution-ml-technology-algorithm-google-analytics-industrialrevolution/\n",
            "Data is fetched https://insights.blackcoffer.com/all-you-need-to-know-about-online-marketing/\n",
            "Data is fetched https://insights.blackcoffer.com/evolution-of-advertising-industry/\n",
            "Data is fetched https://insights.blackcoffer.com/how-data-analytics-can-help-your-business-respond-to-the-impact-of-covid-19/\n",
            "Data is fetched https://insights.blackcoffer.com/environmental-impact-of-the-covid-19-pandemic-lesson-for-the-future/\n",
            "Data is fetched https://insights.blackcoffer.com/how-data-analytics-and-ai-are-used-to-halt-the-covid-19-pandemic/\n",
            "Data is fetched https://insights.blackcoffer.com/difference-between-artificial-intelligence-machine-learning-statistics-and-data-mining/\n",
            "Data is fetched https://insights.blackcoffer.com/how-python-became-the-first-choice-for-data-science/\n",
            "Data is fetched https://insights.blackcoffer.com/how-google-fit-measure-heart-and-respiratory-rates-using-a-phone/\n",
            "Data is fetched https://insights.blackcoffer.com/what-is-the-future-of-mobile-apps/\n",
            "Data is fetched https://insights.blackcoffer.com/impact-of-ai-in-health-and-medicine/\n",
            "Data is fetched https://insights.blackcoffer.com/telemedicine-what-patients-like-and-dislike-about-it/\n",
            "Data is fetched https://insights.blackcoffer.com/how-we-forecast-future-technologies/\n",
            "Data is fetched https://insights.blackcoffer.com/can-robots-tackle-late-life-loneliness/\n",
            "Data is fetched https://insights.blackcoffer.com/embedding-care-robots-into-society-socio-technical-considerations/\n",
            "Data is fetched https://insights.blackcoffer.com/management-challenges-for-future-digitalization-of-healthcare-services/\n",
            "Data is fetched https://insights.blackcoffer.com/are-we-any-closer-to-preventing-a-nuclear-holocaust/\n",
            "Data is fetched https://insights.blackcoffer.com/will-technology-eliminate-the-need-for-animal-testing-in-drug-development/\n",
            "Data is fetched https://insights.blackcoffer.com/will-we-ever-understand-the-nature-of-consciousness/\n",
            "Data is fetched https://insights.blackcoffer.com/will-we-ever-colonize-outer-space/\n",
            "Data is fetched https://insights.blackcoffer.com/what-is-the-chance-homo-sapiens-will-survive-for-the-next-500-years/\n",
            "Data is fetched https://insights.blackcoffer.com/why-does-your-business-need-a-chatbot/\n",
            "Data is fetched https://insights.blackcoffer.com/how-you-lead-a-project-or-a-team-without-any-technical-expertise/\n",
            "Data is fetched https://insights.blackcoffer.com/can-you-be-great-leader-without-technical-expertise/\n",
            "Data is fetched https://insights.blackcoffer.com/how-does-artificial-intelligence-affect-the-environment/\n",
            "Data is fetched https://insights.blackcoffer.com/how-to-overcome-your-fear-of-making-mistakes-2/\n",
            "Data is fetched https://insights.blackcoffer.com/is-perfection-the-greatest-enemy-of-productivity/\n",
            "Data is fetched https://insights.blackcoffer.com/global-financial-crisis-2008-causes-effects-and-its-solution/\n",
            "Data is fetched https://insights.blackcoffer.com/gender-diversity-and-equality-in-the-tech-industry/\n",
            "Data is fetched https://insights.blackcoffer.com/how-to-overcome-your-fear-of-making-mistakes/\n",
            "Data is fetched https://insights.blackcoffer.com/how-small-business-can-survive-the-coronavirus-crisis/\n",
            "Data is fetched https://insights.blackcoffer.com/impacts-of-covid-19-on-vegetable-vendors-and-food-stalls/\n",
            "Data is fetched https://insights.blackcoffer.com/impacts-of-covid-19-on-vegetable-vendors/\n",
            "Data is fetched https://insights.blackcoffer.com/impact-of-covid-19-pandemic-on-tourism-aviation-industries/\n",
            "Data is fetched https://insights.blackcoffer.com/impact-of-covid-19-pandemic-on-sports-events-around-the-world/\n",
            "Data is fetched https://insights.blackcoffer.com/changing-landscape-and-emerging-trends-in-the-indian-it-ites-industry/\n",
            "Data is fetched https://insights.blackcoffer.com/online-gaming-adolescent-online-gaming-effects-demotivated-depression-musculoskeletal-and-psychosomatic-symptoms/\n",
            "Data is fetched https://insights.blackcoffer.com/human-rights-outlook/\n",
            "Data is fetched https://insights.blackcoffer.com/how-voice-search-makes-your-business-a-successful-business/\n",
            "Data is fetched https://insights.blackcoffer.com/how-the-covid-19-crisis-is-redefining-jobs-and-services/\n",
            "Data is fetched https://insights.blackcoffer.com/how-to-increase-social-media-engagement-for-marketers/\n",
            "Data is fetched https://insights.blackcoffer.com/impacts-of-covid-19-on-streets-sides-food-stalls/\n",
            "Data is fetched https://insights.blackcoffer.com/coronavirus-impact-on-energy-markets-2/\n",
            "Data is fetched https://insights.blackcoffer.com/coronavirus-impact-on-the-hospitality-industry-5/\n",
            "Data is fetched https://insights.blackcoffer.com/lessons-from-the-past-some-key-learnings-relevant-to-the-coronavirus-crisis-4/\n",
            "Data is fetched https://insights.blackcoffer.com/estimating-the-impact-of-covid-19-on-the-world-of-work-2/\n",
            "Data is fetched https://insights.blackcoffer.com/estimating-the-impact-of-covid-19-on-the-world-of-work-3/\n",
            "Data is fetched https://insights.blackcoffer.com/travel-and-tourism-outlook/\n",
            "Data is fetched https://insights.blackcoffer.com/gaming-disorder-and-effects-of-gaming-on-health/\n",
            "Data is fetched https://insights.blackcoffer.com/what-is-the-repercussion-of-the-environment-due-to-the-covid-19-pandemic-situation/\n",
            "Data is fetched https://insights.blackcoffer.com/what-is-the-repercussion-of-the-environment-due-to-the-covid-19-pandemic-situation-2/\n",
            "Data is fetched https://insights.blackcoffer.com/impact-of-covid-19-pandemic-on-office-space-and-co-working-industries/\n",
            "Data is fetched https://insights.blackcoffer.com/contribution-of-handicrafts-visual-arts-literature-in-the-indian-economy/\n",
            "Data is fetched https://insights.blackcoffer.com/how-covid-19-is-impacting-payment-preferences/\n",
            "Data is fetched https://insights.blackcoffer.com/how-will-covid-19-affect-the-world-of-work-2/\n",
            "Data is fetched https://insights.blackcoffer.com/lessons-from-the-past-some-key-learnings-relevant-to-the-coronavirus-crisis/\n",
            "Data is fetched https://insights.blackcoffer.com/covid-19-how-have-countries-been-responding/\n",
            "Data is fetched https://insights.blackcoffer.com/coronavirus-impact-on-the-hospitality-industry-2/\n",
            "Data is fetched https://insights.blackcoffer.com/how-will-covid-19-affect-the-world-of-work-3/\n",
            "Data is fetched https://insights.blackcoffer.com/coronavirus-impact-on-the-hospitality-industry-3/\n",
            "Data is fetched https://insights.blackcoffer.com/estimating-the-impact-of-covid-19-on-the-world-of-work/\n",
            "Data is fetched https://insights.blackcoffer.com/covid-19-how-have-countries-been-responding-2/\n",
            "Data is fetched https://insights.blackcoffer.com/how-will-covid-19-affect-the-world-of-work-4/\n",
            "Data is fetched https://insights.blackcoffer.com/lessons-from-the-past-some-key-learnings-relevant-to-the-coronavirus-crisis-2/\n",
            "Data is fetched https://insights.blackcoffer.com/lessons-from-the-past-some-key-learnings-relevant-to-the-coronavirus-crisis-3/\n",
            "Data is fetched https://insights.blackcoffer.com/coronavirus-impact-on-the-hospitality-industry-4/\n",
            "Data is fetched https://insights.blackcoffer.com/why-scams-like-nirav-modi-happen-with-indian-banks/\n",
            "Data is fetched https://insights.blackcoffer.com/impact-of-covid-19-on-the-global-economy/\n",
            "Data is fetched https://insights.blackcoffer.com/impact-of-covid-19coronavirus-on-the-indian-economy-2/\n",
            "Data is fetched https://insights.blackcoffer.com/impact-of-covid-19-on-the-global-economy-2/\n",
            "Data is fetched https://insights.blackcoffer.com/impact-of-covid-19-coronavirus-on-the-indian-economy-3/\n",
            "Data is fetched https://insights.blackcoffer.com/should-celebrities-be-allowed-to-join-politics/\n",
            "Data is fetched https://insights.blackcoffer.com/how-prepared-is-india-to-tackle-a-possible-covid-19-outbreak/\n",
            "Data is fetched https://insights.blackcoffer.com/how-will-covid-19-affect-the-world-of-work/\n",
            "Data is fetched https://insights.blackcoffer.com/controversy-as-a-marketing-strategy/\n",
            "Data is fetched https://insights.blackcoffer.com/coronavirus-impact-on-the-hospitality-industry/\n",
            "Data is fetched https://insights.blackcoffer.com/coronavirus-impact-on-energy-markets/\n",
            "Data is fetched https://insights.blackcoffer.com/what-are-the-key-policies-that-will-mitigate-the-impacts-of-covid-19-on-the-world-of-work/\n",
            "Data is fetched https://insights.blackcoffer.com/marketing-drives-results-with-a-focus-on-problems/\n",
            "Data is fetched https://insights.blackcoffer.com/continued-demand-for-sustainability/\n",
            "Data is fetched https://insights.blackcoffer.com/coronavirus-disease-covid-19-effect-the-impact-and-role-of-mass-media-during-the-pandemic/\n",
            "Data is fetched https://insights.blackcoffer.com/should-people-wear-fabric-gloves-seeking-evidence-regarding-the-differential-transfer-of-covid-19-or-coronaviruses-generally-between-surfaces/\n",
            "Data is fetched https://insights.blackcoffer.com/why-is-there-a-severe-immunological-and-inflammatory-explosion-in-those-affected-by-sarms-covid-19/\n",
            "Data is fetched https://insights.blackcoffer.com/what-do-you-think-is-the-lesson-or-lessons-to-be-learned-with-covid-19/\n",
            "Data is fetched https://insights.blackcoffer.com/coronavirus-the-unexpected-challenge-for-the-european-union/\n",
            "Data is fetched https://insights.blackcoffer.com/industrial-revolution-4-0-pros-and-cons/\n",
            "Data is fetched https://insights.blackcoffer.com/impact-of-covid-19-coronavirus-on-the-indian-economy/\n",
            "Data is fetched https://insights.blackcoffer.com/impact-of-covid-19-coronavirus-on-the-indian-economy-2/\n",
            "Data is fetched https://insights.blackcoffer.com/impact-of-covid-19coronavirus-on-the-indian-economy/\n",
            "Data is fetched https://insights.blackcoffer.com/impact-of-covid-19-coronavirus-on-the-global-economy/\n",
            "Data is fetched https://insights.blackcoffer.com/blockchain-in-fintech/\n",
            "Data is fetched https://insights.blackcoffer.com/blockchain-for-payments/\n",
            "Data is fetched https://insights.blackcoffer.com/the-future-of-investing/\n",
            "Data is fetched https://insights.blackcoffer.com/big-data-analytics-in-healthcare/\n",
            "Data is fetched https://insights.blackcoffer.com/business-analytics-in-the-healthcare-industry/\n",
            "Data is fetched https://insights.blackcoffer.com/challenges-and-opportunities-of-big-data-in-healthcare/\n"
          ]
        }
      ]
    },
    {
      "cell_type": "code",
      "source": [
        "import glob\n",
        "print(glob.glob('[UR]*.txt'))\n"
      ],
      "metadata": {
        "colab": {
          "base_uri": "https://localhost:8080/"
        },
        "id": "FSn9llEG6Gp6",
        "outputId": "06bfca17-5683-4902-b4ac-e962e07409e7"
      },
      "execution_count": null,
      "outputs": [
        {
          "output_type": "stream",
          "name": "stdout",
          "text": [
            "['URL_ID99.txt', 'URL_ID49.txt', 'URL_ID102.txt', 'URL_ID84.txt', 'URL_ID47.txt', 'URL_ID27.txt', 'URL_ID75.txt', 'URL_ID86.txt', 'URL_ID3.txt', 'URL_ID70.txt', 'URL_ID80.txt', 'URL_ID73.txt', 'URL_ID22.txt', 'URL_ID20.txt', 'URL_ID61.txt', 'URL_ID53.txt', 'URL_ID77.txt', 'URL_ID9.txt', 'URL_ID57.txt', 'URL_ID110.txt', 'URL_ID43.txt', 'URL_ID21.txt', 'URL_ID52.txt', 'URL_ID60.txt', 'URL_ID74.txt', 'URL_ID45.txt', 'URL_ID104.txt', 'URL_ID34.txt', 'URL_ID28.txt', 'URL_ID98.txt', 'URL_ID106.txt', 'URL_ID14.txt', 'URL_ID71.txt', 'URL_ID72.txt', 'URL_ID1.txt', 'URL_ID44.txt', 'URL_ID41.txt', 'URL_ID30.txt', 'URL_ID38.txt', 'URL_ID101.txt', 'URL_ID79.txt', 'URL_ID81.txt', 'URL_ID7.txt', 'URL_ID48.txt', 'URL_ID59.txt', 'URL_ID92.txt', 'URL_ID39.txt', 'URL_ID33.txt', 'URL_ID90.txt', 'URL_ID65.txt', 'URL_ID68.txt', 'URL_ID87.txt', 'URL_ID4.txt', 'URL_ID93.txt', 'URL_ID88.txt', 'URL_ID85.txt', 'URL_ID10.txt', 'URL_ID29.txt', 'URL_ID108.txt', 'URL_ID40.txt', 'URL_ID91.txt', 'URL_ID15.txt', 'URL_ID111.txt', 'URL_ID95.txt', 'URL_ID11.txt', 'URL_ID89.txt', 'URL_ID76.txt', 'URL_ID35.txt', 'URL_ID19.txt', 'URL_ID42.txt', 'URL_ID82.txt', 'URL_ID66.txt', 'URL_ID36.txt', 'URL_ID58.txt', 'URL_ID32.txt', 'URL_ID96.txt', 'URL_ID100.txt', 'URL_ID51.txt', 'URL_ID24.txt', 'URL_ID13.txt', 'URL_ID18.txt', 'URL_ID6.txt', 'URL_ID67.txt', 'URL_ID54.txt', 'URL_ID25.txt', 'URL_ID105.txt', 'URL_ID83.txt', 'URL_ID26.txt', 'URL_ID62.txt', 'URL_ID97.txt', 'URL_ID94.txt', 'URL_ID64.txt', 'URL_ID12.txt', 'URL_ID109.txt', 'URL_ID55.txt', 'URL_ID16.txt', 'URL_ID63.txt', 'URL_ID5.txt', 'URL_ID17.txt', 'URL_ID37.txt', 'URL_ID56.txt', 'URL_ID2.txt', 'URL_ID69.txt', 'URL_ID50.txt', 'URL_ID107.txt', 'URL_ID103.txt', 'URL_ID31.txt', 'URL_ID23.txt', 'URL_ID8.txt', 'URL_ID46.txt', 'URL_ID78.txt']\n"
          ]
        }
      ]
    },
    {
      "cell_type": "code",
      "source": [
        "from google.colab import drive\n",
        "drive.mount('/content/drive')"
      ],
      "metadata": {
        "colab": {
          "base_uri": "https://localhost:8080/"
        },
        "id": "xug2D1tGtcpg",
        "outputId": "cf2312eb-15fd-46ab-ebf6-7139f0771fe1"
      },
      "execution_count": null,
      "outputs": [
        {
          "output_type": "stream",
          "name": "stdout",
          "text": [
            "Drive already mounted at /content/drive; to attempt to forcibly remount, call drive.mount(\"/content/drive\", force_remount=True).\n"
          ]
        }
      ]
    },
    {
      "cell_type": "code",
      "source": [
        "text=open(\"URL_ID111.txt\").read()\n"
      ],
      "metadata": {
        "id": "o9kAWv2gNZBH"
      },
      "execution_count": null,
      "outputs": []
    },
    {
      "cell_type": "code",
      "source": [
        "I = text.split()\n",
        "word_frequancy = {} \n",
        "character_frequency = dict()\n",
        "\n",
        "for w in I:\n",
        "  if w not in word_frequancy.keys():\n",
        "    word_frequancy[w] = 0 \n",
        "  word_frequancy[w] = word_frequancy[w] +1\n",
        "print(\"the frequancy of the words are \", word_frequancy)\n",
        "\n",
        "for c in  text:\n",
        "  if c in character_frequency :\n",
        "    character_frequency [c] = character_frequency [c] +1\n",
        "  else :\n",
        "    character_frequency [c] =1\n",
        "\n",
        "print (\"the frequency of character are\", character_frequency)"
      ],
      "metadata": {
        "colab": {
          "base_uri": "https://localhost:8080/"
        },
        "id": "qV-8rmeAYYzq",
        "outputId": "38bfb168-b94a-486d-dec6-8043393237d0"
      },
      "execution_count": null,
      "outputs": [
        {
          "output_type": "stream",
          "name": "stdout",
          "text": [
            "the frequancy of the words are  {'Challenges': 4, 'and': 75, 'Opportunities': 4, 'of': 69, 'Big': 10, 'Data': 14, 'in': 22, 'Healthcare': 10, '|': 2, 'Blackcoffer': 4, 'Insights': 2, 'Sign': 4, 'Our': 15, 'Success': 16, 'Stories': 15, 'Banking,': 2, 'Financials,': 6, 'Securities,': 6, 'Insurance': 3, 'Energy': 3, 'Entertainment': 2, 'Fast': 2, 'Moving': 6, 'Consumer': 10, 'Goods': 3, 'Government': 2, '&': 42, 'Think': 20, 'Tanks': 2, 'Infrastructure': 2, 'Real': 6, 'Estate': 2, 'IT': 2, 'Lifestyle,': 2, 'eCommerce': 7, 'Online': 7, 'Market': 7, 'Place': 4, 'Production': 2, 'Manufacturing': 4, 'Research': 2, 'Academia': 2, 'Retail': 2, 'Supply': 2, 'Chain': 2, 'Telecom': 1, 'What': 28, 'We': 30, 'Do': 13, 'Hospitality': 1, 'Services': 3, 'News': 1, 'Media': 1, 'Automobiles': 1, 'Components': 1, 'BFSI': 1, 'Asset': 1, 'Portfolio': 1, 'Banks': 1, 'Capital': 5, 'Markets': 4, 'Derivatives': 1, 'Securities': 2, 'Diversified': 1, 'Financials': 1, 'Finance': 1, 'Accounting': 1, 'Commercial': 1, 'Professional': 1, 'Discretionary': 1, 'Durables': 1, 'Apparel': 1, 'Staples': 2, 'Food': 1, 'Retailing': 1, 'Food,': 1, 'Beverage': 1, 'Tobacco': 1, 'Household': 1, 'Personal': 1, 'Products': 1, 'Science': 1, 'Analytics': 7, 'Artificial': 2, 'Intelligence': 2, 'Business': 2, 'Visualization': 1, 'Internet': 1, 'Things': 1, 'Machine': 1, 'Learning': 1, 'Statistics': 2, 'DataOil': 1, 'How': 11, 'To': 12, 'Application': 1, 'Development': 3, 'Example': 1, 'Optimization': 1, 'Projects': 1, 'Software': 1, 'Source': 1, 'Code': 5, 'Audit': 1, 'Web': 1, 'Mobile': 3, 'App': 5, 'Schedule': 5, 'Demo': 5, 'Contact': 8, 'Welcome!Log': 1, 'into': 4, 'your': 13, 'account': 2, 'username': 2, 'password': 5, 'Forgot': 2, 'password?': 2, 'Password': 2, 'recovery': 2, 'Recover': 2, 'email': 2, 'Search': 3, 'Welcome!': 1, 'Log': 1, 'Get': 1, 'help': 2, 'A': 3, 'will': 3, 'be': 15, 'e-mailed': 1, 'to': 45, 'you.': 1, 'Wednesday,': 1, 'March': 1, '29,': 1, '2023': 15, '/': 1, 'Join': 1, 'FacebookInstagramTwitterVimeoYoutube': 1, 'AllBanking,': 4, 'InsuranceEnergyEntertainmentFast': 4, 'GoodsGovernment': 4, 'TanksHealthcareInfrastructure': 2, 'EstateITLifestyle,': 2, 'PlaceProduction': 2, 'Ranking': 2, 'customer': 4, 'behaviours': 2, 'for': 17, 'business': 2, 'strategy': 2, 'December': 8, '31,': 8, '2022': 16, 'Algorithmic': 2, 'trading': 2, 'multiple': 2, 'commodities': 2, 'markets,': 2, 'like': 5, 'Forex,': 2, 'Metals,': 2, 'Energy,': 2, 'etc.': 3, 'Trading': 2, 'Bot': 4, 'FOREX': 2, 'Python': 2, 'model': 2, 'the': 51, 'analysis': 8, 'sector-specific': 2, 'stock': 2, 'ETFs': 2, 'investment': 2, 'purposes': 2, 'TanksHealthcareHospitalityInfrastructure': 2, 'EstateIT': 2, 'ServicesLifestyle,': 2, 'Playstore': 2, 'Appstore': 2, 'Google': 12, '(GA)': 2, 'or': 7, 'Firebase': 2, 'Studio': 4, 'KPI': 2, 'Dashboard': 2, 'September': 2, '19,': 5, 'Local': 2, 'Service': 2, 'Ads': 2, 'LSA': 2, 'API': 2, 'BigQuery': 2, 'May': 2, '6,': 2, 'AI': 2, 'Conversational': 2, 'using': 4, 'RASA': 2, 'February': 6, 'Recommendation': 2, 'System': 2, 'Architecture': 2, 'October': 2, '28,': 2, '2021': 6, 'AllAutomobiles': 2, 'ComponentsBFSIAsset': 2, 'PortfolioBanksCapital': 2, 'MarketsDerivatives': 2, 'SecuritiesDiversified': 2, 'FinancialsFinance': 2, 'AccountingInsuranceSecurities': 2, 'Rise': 14, 'telemedicine': 4, 'its': 16, 'Impact': 4, 'on': 14, 'Livelihood': 4, 'by': 17, '2040': 6, 'January': 14, '2,': 14, 'e-health': 8, 'impact': 10, 'humans': 8, 'year': 10, '2030': 8, 'Chatbots': 2, 'support': 4, 'AllAnalyticsApplication': 2, 'DevelopmentArtificial': 2, 'IntelligenceBusiness': 2, 'AnalyticsExampleOptimizationProjectsSoftware': 2, 'DevelopmentSource': 2, 'AuditStatistics': 2, 'AI/ML': 2, 'Predictive': 2, 'Modeling': 3, '3,': 2, 'Solution': 2, 'Centre': 2, 'Problems': 2, 'April': 4, '26,': 2, 'Setup': 2, 'Custom': 2, 'Domain': 2, 'Engine': 2, 'Application?': 2, '13,': 2, 'Review': 2, 'Checklist': 2, '10,': 2, '2020': 2, 'Home': 1, 'ThinkHealthcare': 1, 'By': 2, 'Ajay': 2, 'Bidyarthy': 2, '-': 3, 'July': 1, '2019': 1, '0': 1, '7300': 1, 'FacebookTwitterPinterestWhatsApp': 2, 'begin': 1, 'with': 8, 'I': 1, 'shall': 2, 'first': 1, 'explain': 1, 'what': 1, 'big': 11, 'data': 31, 'is': 32, 'why': 1, 'it': 8, 'has': 4, 'become': 1, 'so': 4, 'important': 1, 'our': 2, 'lives.': 1, 'simply': 1, 'data,': 2, 'but': 2, 'a': 23, 'huge': 4, 'size.': 1, 'that': 8, 'not': 5, 'just': 2, 'voluminous': 2, 'also': 4, 'growing': 1, 'exponentially': 1, 'time.': 2, 'Such': 2, 'sets': 2, 'are': 12, 'large': 3, 'complex': 1, 'possible': 1, 'store': 2, 'process': 3, 'them': 1, 'traditional': 1, 'management': 2, 'tools.': 1, 'So,': 1, 'how': 2, 'can': 15, 'this': 3, 'be?': 1, 'Social': 1, 'media': 1, 'sites': 1, 'Facebook': 1, 'generate': 2, 'more': 6, 'than': 3, '500': 1, 'terabytes': 2, 'new': 1, 'every': 1, 'day': 1, 'form': 1, 'photos,': 1, 'video': 1, 'uploads,': 1, 'text': 1, 'messages,': 1, 'single': 1, 'Jet': 1, 'engine': 1, '10': 2, '30': 1, 'minutes': 1, 'flight': 1, 'With': 2, 'many': 4, 'thousand': 1, 'flights': 1, 'per': 1, 'day,': 1, 'generation': 1, 'reaches': 1, 'up': 1, 'petabytes.': 1, 'contained': 2, 'these': 3, 'always': 2, 'structured.': 1, 'It': 2, 'semi-structured': 1, 'even': 3, 'unstructured.': 1, 'When': 2, 'such': 5, 'size': 2, 'dimension': 1, 'we': 6, 'well': 4, 'imagine': 1, 'complicated': 2, 'must': 1, 'analyze': 1, 'it.': 1, 'Therefore,': 1, 'modern': 2, 'methods': 1, 'being': 1, 'developed': 1, 'used': 1, 'information': 4, 'sets.': 1, 'Now': 1, 'coming': 1, 'opportunities': 2, 'provides,': 1, 'they': 1, 'limited': 1, 'healthcare.': 2, 'now': 2, 'disruptive': 2, 'technology': 4, 'which': 4, 'intervened': 1, 'numerous': 1, 'fields': 1, 'proved': 1, 'worth.': 1, 'no': 2, 'exception.': 1, 'potential': 1, 'change': 1, 'entire': 1, 'dynamics': 1, 'healthcare': 8, 'industry': 4, 'improve': 1, 'quality': 1, 'life': 1, 'people.': 1, 'very': 2, 'system.': 1, 'involves': 1, 'lot': 2, 'risks': 1, 'demands': 1, 'better': 1, 'care.': 1, 'However,': 2, 'when': 2, 'number': 1, 'patients': 3, 'seek': 1, 'emergency': 2, 'care': 4, 'complications': 1, 'as': 8, 'cost': 1, 'rise': 1, 'exponentially.': 1, 'In': 3, 'India,': 1, 'times,': 1, 'lack': 4, 'sufficient': 2, 'infrastructure': 1, 'patients,': 1, 'there': 3, 'deficit': 1, 'beds': 1, 'doctors': 1, 'provide': 3, 'treatment': 3, 'patients.': 2, 'For': 1, 'instance,': 1, 'epidemics': 1, 'break': 1, 'out': 2, 'lives': 1, 'lost': 1, 'at': 1, 'alarming': 1, 'rate,': 1, 'easily': 2, 'gauge': 1, 'helplessness.': 1, 'scenario': 1, 'certainly': 1, 'improving': 1, 'now.': 1, 'advent': 1, 'digitization': 1, 'system,': 1, 'providers': 1, 'practitioners': 1, 'having': 1, 'access': 1, 'amount': 1, 'patient': 2, 'health': 3, 'data.': 3, 'This': 4, 'processed': 1, 'analyzed': 1, 'identify': 2, 'patterns': 1, 'quickly': 1, 'effectively.': 1, 'The': 7, 'obtained': 1, 'extremely': 1, 'useful': 1, 'figure': 1, 'chronic': 1, 'issues': 2, 'preventive': 1, 'plans': 1, 'beforehand': 1, 'curb': 1, 'disease': 1, 'disorder': 1, 'from': 4, 'occurring.': 1, 'method': 1, 'known': 2, 'predictive': 4, 'one': 2, 'most': 1, 'crucial': 1, 'benefits': 3, 'ways': 2, 'infer.': 1, 'organizations': 1, 'have': 3, 'implemented': 1, 'witnessed': 1, 'reduction': 1, 'ER': 2, 'visits': 2, 'providing': 1, 'decreasing': 1, 'situations.': 1, 'Apart': 1, 'reduced': 3, 'timely': 1, 'treatment,': 1, 'other': 3, 'analysis.': 1, 'Patients': 1, 'high-risk': 1, 'life-threatening': 1, 'provided': 1, 'customized': 1, 'facilities.': 1, 'Due': 1, 'exists': 1, 'proper': 1, 'planning': 1, 'hospitals.': 1, 'Under': 1, 'over-booking': 1, 'staff,': 1, 'medical': 2, 'equipment,': 1, 'medicines,': 1, 'facilities': 1, 'result': 1, 'inefficient': 1, 'budgeting': 1, 'ill-management': 1, 'finances.': 2, 'Using': 1, 'problems': 1, 'solved': 1, 'lead': 2, 'costs': 1, 'efficient': 2, 'Better': 1, 'staff': 1, 'allocation': 1, 'admission': 1, 'rate': 1, 'prediction': 1, 'facilitate': 1, 'improvement': 1, 'daily': 1, 'operations': 1, 'organizations.': 1, 'effect': 2, 'recency': 2, 'bias': 1, 'could': 2, 'well.': 1, 'give': 1, 'importance': 2, 'recent': 1, 'events': 1, 'tend': 1, 'ignore': 1, 'older': 1, 'ones,': 1, 'may': 1, 'incorrect': 1, 'decisions.': 1, 'bias.': 1, 'helps': 1, 'preventing': 1, 'fraudulent': 1, 'activities': 1, 'turn': 1, 'prevents': 1, 'losses': 1, 'insurance': 1, 'companies.': 1, 'While': 1, 'all': 2, 'changing': 1, 'better,': 1, 'easy': 1, 'reap': 1, 'There': 1, 'whole': 1, 'challenges': 3, 'vulnerabilities': 2, 'attached': 1, 'implementation.': 2, 'One': 1, 'biggest': 1, 'security.': 1, 'contains': 1, 'personal': 1, 'history': 1, 'Acts': 1, 'hacking,': 1, 'cyber': 1, 'theft': 1, 'phishing': 1, 'pose': 1, 'serious': 2, 'threat': 1, 'databases.': 1, 'stolen': 1, 'sold': 1, 'sums': 1, 'money.': 1, 'Protection': 1, 'patients’': 1, 'privacy': 1, 'hence': 1, 'challenge': 4, 'Also,': 2, 'would': 1, 'contain': 1, 'external': 1, 'apart': 1, 'information.': 1, 'organization,': 1, 'therefore,': 1, 'take': 1, 'privacy,': 1, 'legal': 1, 'compliances,': 1, 'government': 1, 'policies.': 1, 'Privacy': 1, 'security': 1, 'given': 1, 'utmost': 2, 'breach': 1, 'any': 1, 'kind': 1, 'permitted.': 1, 'next': 2, 'classification': 1, 'modeling.': 1, 'massive': 2, 'less': 1, 'structured': 1, 'heterogeneous.': 1, 'Classifying': 1, 'relevant': 2, 'challenge.': 2, 'unstructured': 1, 'equally': 1, 'difficult.': 1, 'Storage': 1, 'retrieval': 2, 'another': 1, 'major': 2, 'Huge': 1, 'cloud': 1, 'servers': 1, 'space': 1, 'required': 2, 'speed': 1, 'should': 1, 'high': 2, 'uploading': 1, 'done': 1, 'hassle-free.': 1, 'way': 1, 'storage': 1, 'challenge,': 1, 'matter': 1, 'concern.': 1, 'Integrating': 1, 'getting': 1, 'systems': 1, 'link': 1, 'each': 1, 'tough': 1, 'job.': 1, 'my': 1, 'opinion.': 1, 'Finding': 1, 'right': 2, 'talent': 3, 'who': 1, 'own': 1, 'expertise': 1, 'implement': 1, 'an': 1, 'arduous': 1, 'task.': 1, 'Shortage': 1, 'crisis': 1, 'market': 1, 'today.': 1, 'Even': 1, 'after': 1, 'hiring': 1, 'retain': 1, 'them.': 1, 'Scarce': 1, 'resources': 1, 'scientists': 1, 'hard': 1, 'find': 1, 'harder': 1, 'retain.': 1, 'They': 1, 'poached': 1, 'competitors.': 1, 'good': 1, 'compensation': 1, 'strategy,': 1, 'conducive': 1, 'work': 1, 'environment,': 1, 'incentives,': 1, 'career': 1, 'growth': 1, 'development': 1, 'some': 1, 'retaining': 1, 'intellectual': 1, 'talent.': 1, 'nutshell,': 1, 'conclude': 1, 'while': 1, 'bring': 1, 'about': 1, 'landmark': 1, 'changes': 1, 'dynamics,': 1, 'need': 1, 'addressed': 1, 'sense': 1, 'responsibility.': 1, 'Subhasmita': 1, 'Dey,': 1, 'Xavier': 1, 'School': 1, 'Human': 1, 'Resource': 1, 'Management,': 1, 'XUB': 1, 'TAGSdiseasehealthcare': 1, 'systemhigh': 1, 'incentivesmassive': 1, 'datapredictive': 1, 'Previous': 1, 'articleObstacles': 1, 'data-driven': 1, 'HealthcareNext': 1, 'articleBusiness': 1, 'Industry': 1, 'Advertisement': 1, 'EDITOR': 1, 'PICKS': 1, 'POPULAR': 2, 'POSTS': 1, 'CATEGORYWhat': 1, 'Think166Our': 1, 'Stories126Blackcoffer118Healthcare52Artificial': 1, 'Intelligence51IT46Big': 1, 'Data44Lifestyle,': 1, 'Place38': 1, 'ABOUT': 1, 'US': 2, 'Newspaper': 2, 'news,': 1, 'entertainment,': 1, 'music': 1, 'fashion': 1, 'website.': 1, 'you': 1, 'latest': 1, 'breaking': 1, 'news': 1, 'videos': 1, 'straight': 1, 'entertainment': 1, 'industry.': 1, 'us:': 1, 'contact@yoursite.com': 1, 'FOLLOW': 1, 'BloggerFacebookFlickrInstagramVKontakte': 1, '©': 1, 'WordPress': 1, 'Theme': 1, 'TagDiv': 1}\n",
            "the frequency of character are {'\\n': 1015, 'C': 60, 'h': 377, 'a': 976, 'l': 447, 'e': 1338, 'n': 797, 'g': 213, 's': 720, ' ': 2023, 'd': 325, 'O': 45, 'p': 221, 'o': 762, 'r': 653, 't': 987, 'u': 324, 'i': 867, 'f': 194, 'B': 48, 'D': 65, 'H': 37, 'c': 478, '|': 2, 'k': 96, 'I': 58, 'S': 112, ',': 115, 'F': 48, 'E': 35, 'y': 203, 'm': 270, 'M': 39, 'v': 133, 'G': 30, '&': 42, 'T': 78, 'R': 44, 'L': 24, 'P': 47, 'A': 92, 'W': 72, 'N': 5, 'w': 90, 'b': 128, 'V': 3, 'z': 14, 'x': 18, 'j': 10, '!': 2, '?': 5, '-': 21, '.': 70, '2': 130, '9': 7, '0': 80, '3': 38, '/': 3, 'J': 17, 'Y': 2, '1': 31, 'X': 4, '(': 2, ')': 2, 'K': 4, 'Q': 2, '6': 8, '8': 4, '4': 9, '7': 1, '5': 3, '\\xa0': 7, 'q': 6, 'U': 8, '’': 1, ':': 1, '@': 1, '©': 1}\n"
          ]
        }
      ]
    },
    {
      "cell_type": "code",
      "source": [
        "with open(\"URL_ID111.txt\", 'r') as file:\n",
        "  contents = file.read()\n",
        "num_words = len(contents.split())\n",
        "\n",
        "\n",
        "\n",
        "print(\"Number of words in text file: \", num_words) \n"
      ],
      "metadata": {
        "colab": {
          "base_uri": "https://localhost:8080/"
        },
        "id": "on6pqUm6YY2i",
        "outputId": "bad6fcce-dad4-4a3a-c2ab-42631b2b929a"
      },
      "execution_count": null,
      "outputs": [
        {
          "output_type": "stream",
          "name": "stdout",
          "text": [
            "Number of words in text file:  2145\n"
          ]
        }
      ]
    },
    {
      "cell_type": "code",
      "source": [
        "\n",
        "import nltk\n",
        "from nltk.corpus import stopwords\n",
        "nltk.download('stopwords')\n",
        "\n",
        "nltk.download(\"punkt\")\n",
        "nltk.download('averaged_perceptron_tagger')\n",
        "nltk.download('wordnet')\n",
        "from nltk.corpus import wordnet\n",
        "#To Tokenize the text\n",
        "tokens = nltk.word_tokenize(text)\n",
        "\n",
        "\n",
        "stop_words = open(\"/content/drive/My Drive/DataScience_output/Stopwords/All_Stop_words.txt\").read()#Manually uploading the merged stopwords file from the stopwwords folder \n",
        "\n",
        "# To Remove the stop words\n",
        "clean_tokens = [token for token in tokens if token.lower() not in stop_words]\n",
        "\n",
        "# To Join the cleaned tokens\n",
        "clean_text = ' '.join(clean_tokens)\n",
        "#print(tokens)\n",
        "# Print the cleaned text\n",
        "#print(clean_text)\n",
        "with open(\"Cleaned_Text.txt\", \"w\") as file:\n",
        "      file.write(clean_text)\n",
        "words=nltk.word_tokenize(clean_text)\n",
        "# Get the parts of speech for each word\n",
        "pos_tags = nltk.pos_tag(words)\n",
        "\n",
        "# Initialization\n",
        "\n",
        "complex_word_count = 0\n",
        "\n",
        "# Loop through each word and check if it is complex\n",
        "for word, pos in pos_tags:\n",
        "    if pos.startswith('NN') or pos.startswith('VB') or pos.startswith('JJ'):\n",
        "        # Check if the word has at least three syllables\n",
        "        if len(wordnet.synsets(word)) > 0 and len(nltk.tokenize.word_tokenize(wordnet.synsets(word)[0].definition())) > 2:\n",
        "            complex_word_count += 1\n",
        "\n",
        "#M\n",
        "print(\"Number of complex words:\", complex_word_count)\n",
        "\n",
        "\n"
      ],
      "metadata": {
        "colab": {
          "base_uri": "https://localhost:8080/"
        },
        "id": "bxBR56pVYY5Y",
        "outputId": "b76fc1d3-fe16-4254-968b-29a0b6d0af36"
      },
      "execution_count": null,
      "outputs": [
        {
          "output_type": "stream",
          "name": "stderr",
          "text": [
            "[nltk_data] Downloading package stopwords to /root/nltk_data...\n",
            "[nltk_data]   Package stopwords is already up-to-date!\n",
            "[nltk_data] Downloading package punkt to /root/nltk_data...\n",
            "[nltk_data]   Package punkt is already up-to-date!\n",
            "[nltk_data] Downloading package averaged_perceptron_tagger to\n",
            "[nltk_data]     /root/nltk_data...\n",
            "[nltk_data]   Package averaged_perceptron_tagger is already up-to-\n",
            "[nltk_data]       date!\n",
            "[nltk_data] Downloading package wordnet to /root/nltk_data...\n",
            "[nltk_data]   Package wordnet is already up-to-date!\n"
          ]
        },
        {
          "output_type": "stream",
          "name": "stdout",
          "text": [
            "Number of complex words: 919\n"
          ]
        }
      ]
    },
    {
      "cell_type": "code",
      "source": [
        "# To check the word count after cleaning the text file\n",
        "\n",
        "\n",
        "with open(\"Cleaned_Text.txt\", 'r') as file:\n",
        "  contents = file.read()\n",
        "num_words = len(contents.split())\n",
        "sentences = nltk.sent_tokenize(text)\n",
        "num_sentences=len(sentences)\n",
        "num_charc = 0\n",
        "\n",
        "for i in contents:\n",
        "  if(i !=\" \" and i !=\"\\n\"):\n",
        "    num_charc += 1\n",
        "print(\"Number of sentences:\", num_sentences)\n",
        "print(\"Number of chars :\", num_charc)\n",
        "print(\"Number of words in text file: \", num_words) #N\n"
      ],
      "metadata": {
        "colab": {
          "base_uri": "https://localhost:8080/"
        },
        "id": "tKv-lUHVYY_Z",
        "outputId": "457976fe-4fe9-4f9f-9d73-5204c08ea7e8"
      },
      "execution_count": null,
      "outputs": [
        {
          "output_type": "stream",
          "name": "stdout",
          "text": [
            "Number of sentences: 76\n",
            "Number of chars : 9192\n",
            "Number of words in text file:  1185\n"
          ]
        }
      ]
    },
    {
      "cell_type": "code",
      "source": [
        "import re\n",
        "with open(\"Cleaned_Text.txt\", 'r') as file:\n",
        "  contents = file.read()\n",
        "num_words = len(contents.split())\n",
        "sentences = nltk.sent_tokenize(text)\n",
        "num_sentences=len(sentences)\n",
        "num_charc = 0\n",
        "num_syl=0\n",
        "num_syl_w=0\n",
        "vowels ='aeiouAEIOU'\n",
        "for i in contents:\n",
        "  if(i !=\" \" and i !=\"\\n\"):\n",
        "    num_charc += 1\n",
        "  if i in vowels:\n",
        "    num_syl +=1\n",
        "#print(num_syl)\n",
        "words = contents.split()\n",
        "for word in words:\n",
        "  if word in vowels:\n",
        "    num_syl +=1\n",
        "  if word.endswith('es') or word.endswith('ed'):\n",
        "    num_syl -=1\n",
        "first_word=(words[1])\n",
        "#print(first_word)\n",
        "for word in first_word:\n",
        "  if first_word.endswith('es') or word.endswith('ed'):\n",
        "    pass\n",
        "  if word in vowels:\n",
        "      num_syl_w +=1\n",
        "# To Check if the word ends with 'es' or 'ed'\n",
        "            \n",
        "\n",
        "\n",
        "\n",
        "print(\"Number of sentences:\", num_sentences)\n",
        "print(\"Number of chars :\", num_charc)\n",
        "print(\"Number of words in text file: \", num_words) \n",
        "print(\"Number of syl:\", num_syl) #O\n",
        "print(\"Number of syl per word:\", num_syl_w)\n"
      ],
      "metadata": {
        "id": "9XeCdkL94bCD",
        "colab": {
          "base_uri": "https://localhost:8080/"
        },
        "outputId": "4294422f-e2fb-43ad-e4f9-f88b7a14f268"
      },
      "execution_count": null,
      "outputs": [
        {
          "output_type": "stream",
          "name": "stdout",
          "text": [
            "Number of sentences: 76\n",
            "Number of chars : 9192\n",
            "Number of words in text file:  1185\n",
            "Number of syl: 3313\n",
            "Number of syl per word: 6\n"
          ]
        }
      ]
    },
    {
      "cell_type": "code",
      "source": [
        "#Syllable Count Per Word\n",
        "I=words \n",
        "word_frequancy = {} \n",
        "character_frequency = dict()\n",
        "num_syl_w=0\n",
        "vowels ='aeiouAEIOU'\n",
        "for w in I:\n",
        "  if w not in word_frequancy.keys():\n",
        "    word_frequancy[w] = 0 \n",
        "    for word in w:\n",
        "        if w.endswith('es') or w.endswith('ed'):\n",
        "          break\n",
        "        if word in vowels:\n",
        "            word_frequancy[w] = word_frequancy[w] +1\n",
        "print(\"the frequancy of the words are \", word_frequancy)"
      ],
      "metadata": {
        "id": "btN23FeTYc5m",
        "colab": {
          "base_uri": "https://localhost:8080/"
        },
        "outputId": "81955b69-460d-4b38-aab2-f8d6f5f57762"
      },
      "execution_count": null,
      "outputs": [
        {
          "output_type": "stream",
          "name": "stdout",
          "text": [
            "the frequancy of the words are  {'Challenges': 0, 'Opportunities': 0, 'Big': 1, 'Data': 2, 'Healthcare': 4, 'Blackcoffer': 3, 'Insights': 2, 'Sign': 1, 'Success': 2, 'Stories': 0, 'Banking': 2, 'Financials': 4, 'Securities': 0, 'Insurance': 4, 'Energy': 2, 'Entertainment': 5, 'Fast': 1, 'Moving': 2, 'Consumer': 3, 'Goods': 2, 'Government': 3, 'Tanks': 1, 'Infrastructure': 5, 'Estate': 3, 'Lifestyle': 3, 'eCommerce': 4, 'Online': 3, 'Market': 2, 'Production': 4, 'Manufacturing': 5, 'Research': 3, 'Academia': 5, 'Retail': 3, 'Supply': 1, 'Chain': 2, 'Telecom': 3, 'Hospitality': 4, 'Services': 0, 'News': 1, 'Automobiles': 0, 'Components': 3, 'BFSI': 1, 'Asset': 2, 'Portfolio': 4, 'Banks': 1, 'Capital': 3, 'Markets': 2, 'Derivatives': 0, 'Diversified': 0, 'Finance': 3, 'Accounting': 4, 'Commercial': 4, 'Professional': 5, 'Discretionary': 5, 'Durables': 0, 'Apparel': 3, 'Staples': 0, 'Food': 2, 'Retailing': 4, 'Beverage': 4, 'Tobacco': 3, 'Household': 4, 'Personal': 3, 'Products': 2, 'Science': 3, 'Analytics': 3, 'Artificial': 5, 'Intelligence': 5, 'Business': 3, 'Visualization': 7, 'Internet': 3, 'Things': 1, 'Machine': 3, 'Learning': 3, 'Statistics': 3, 'DataOil': 4, 'Application': 5, 'Development': 4, 'Optimization': 6, 'Projects': 2, 'Software': 3, 'Source': 3, 'Code': 2, 'Audit': 3, 'Web': 1, 'Mobile': 3, 'Schedule': 3, 'Demo': 2, 'Contact': 2, 'account': 3, 'username': 4, 'password': 2, 'Forgot': 2, 'Password': 2, 'recovery': 3, 'Recover': 3, 'email': 3, 'Search': 2, 'e-mailed': 0, 'Wednesday': 3, 'March': 1, '29': 0, '2023': 0, 'Join': 2, 'FacebookInstagramTwitterVimeoYoutube': 16, 'AllBanking': 3, 'InsuranceEnergyEntertainmentFast': 12, 'GoodsGovernment': 5, 'TanksHealthcareInfrastructure': 10, 'EstateITLifestyle': 7, 'PlaceProduction': 6, 'Ranking': 2, 'customer': 3, 'behaviours': 5, 'business': 3, 'strategy': 2, 'December': 3, '31': 0, '2022': 0, 'Algorithmic': 4, 'trading': 2, 'multiple': 3, 'commodities': 0, 'markets': 2, 'Forex': 2, 'Metals': 2, 'Trading': 2, 'FOREX': 2, 'Python': 1, 'model': 2, 'analysis': 3, 'sector-specific': 5, 'stock': 1, 'ETFs': 1, 'investment': 3, 'purposes': 0, 'TanksHealthcareHospitalityInfrastructure': 14, 'EstateIT': 4, 'ServicesLifestyle': 6, 'Playstore': 3, 'Appstore': 3, 'Google': 3, 'Firebase': 4, 'Studio': 3, 'KPI': 1, 'Dashboard': 3, 'September': 3, 'Local': 2, 'Service': 3, 'Ads': 1, 'LSA': 1, 'API': 2, 'BigQuery': 3, '6': 0, 'Conversational': 6, 'RASA': 2, 'February': 3, 'Recommendation': 6, 'System': 1, 'Architecture': 5, 'October': 3, '28': 0, '2021': 0, 'AllAutomobiles': 0, 'ComponentsBFSIAsset': 6, 'PortfolioBanksCapital': 8, 'MarketsDerivatives': 0, 'SecuritiesDiversified': 0, 'FinancialsFinance': 7, 'AccountingInsuranceSecurities': 0, 'Rise': 2, 'telemedicine': 6, 'Impact': 2, 'Livelihood': 5, '2040': 0, 'January': 3, 'e-health': 3, 'impact': 2, 'humans': 2, 'year': 2, '2030': 0, 'Chatbots': 2, 'support': 2, 'AllAnalyticsApplication': 9, 'DevelopmentArtificial': 9, 'IntelligenceBusiness': 8, 'AnalyticsExampleOptimizationProjectsSoftware': 17, 'DevelopmentSource': 7, 'AuditStatistics': 6, 'AI/ML': 2, 'Predictive': 4, 'Modeling': 3, '3': 0, 'Solution': 4, 'Centre': 2, 'Problems': 2, 'April': 2, '26': 0, 'Setup': 2, 'Custom': 2, 'Domain': 3, 'Engine': 3, '13': 0, 'Review': 3, 'Checklist': 2, '10': 0, '2020': 0, 'Home': 2, 'ThinkHealthcare': 5, 'Ajay': 2, 'Bidyarthy': 2, 'July': 1, '2019': 0, '7300': 0, 'FacebookTwitterPinterestWhatsApp': 11, 'begin': 2, 'explain': 3, 'big': 1, 'data': 2, 'important': 3, 'lives': 0, 'simply': 1, 'huge': 2, 'size': 2, 'voluminous': 5, 'growing': 2, 'exponentially': 5, 'sets': 1, 'large': 2, 'complex': 2, 'store': 2, 'process': 2, 'traditional': 5, 'management': 4, 'tools': 2, 'Social': 3, 'sites': 0, 'Facebook': 4, 'generate': 4, '500': 0, 'terabytes': 0, 'day': 1, 'photos': 2, 'video': 3, 'uploads': 3, 'text': 1, 'messages': 0, 'single': 2, 'Jet': 1, 'engine': 3, '30': 0, 'minutes': 0, 'flight': 1, 'thousand': 3, 'flights': 1, 'generation': 5, 'reaches': 0, 'petabytes': 0, 'contained': 0, 'structured': 0, 'semi-structured': 0, 'unstructured': 0, 'dimension': 4, 'imagine': 4, 'complicated': 0, 'analyze': 3, 'modern': 2, 'methods': 2, 'developed': 0, 'information': 5, 'opportunities': 0, 'limited': 0, 'healthcare': 4, 'disruptive': 4, 'technology': 3, 'intervened': 0, 'numerous': 4, 'fields': 2, 'proved': 0, 'worth': 1, 'exception': 4, 'potential': 4, 'dynamics': 2, 'industry': 2, 'improve': 3, 'quality': 3, 'life': 2, 'people': 3, 'system': 1, 'involves': 0, 'lot': 1, 'risks': 1, 'demands': 2, 'care': 2, 'number': 2, 'patients': 3, 'seek': 2, 'emergency': 3, 'complications': 5, 'cost': 1, 'rise': 2, 'India': 3, 'lack': 1, 'sufficient': 4, 'infrastructure': 5, 'deficit': 3, 'beds': 1, 'doctors': 2, 'treatment': 3, 'instance': 3, 'epidemics': 4, 'break': 2, 'lost': 1, 'alarming': 3, 'rate': 2, 'easily': 3, 'gauge': 3, 'helplessness': 3, 'scenario': 4, 'improving': 3, 'advent': 2, 'digitization': 6, 'providers': 3, 'practitioners': 5, 'access': 2, 'amount': 3, 'patient': 3, 'health': 2, 'processed': 0, 'analyzed': 0, 'identify': 3, 'patterns': 2, 'quickly': 2, 'effectively': 4, 'obtained': 0, 'extremely': 3, 'figure': 3, 'chronic': 2, 'issues': 0, 'preventive': 4, 'plans': 1, 'curb': 1, 'disease': 4, 'disorder': 3, 'occurring': 3, 'method': 2, 'predictive': 4, 'crucial': 3, 'benefits': 3, 'infer': 2, 'organizations': 6, 'implemented': 0, 'witnessed': 0, 'reduction': 4, 'visits': 2, 'providing': 3, 'decreasing': 4, 'situations': 5, 'reduced': 0, 'timely': 2, 'Patients': 3, 'high-risk': 2, 'life-threatening': 6, 'provided': 0, 'customized': 0, 'facilities': 0, 'Due': 2, 'exists': 2, 'proper': 2, 'planning': 2, 'hospitals': 3, 'over-booking': 5, 'staff': 1, 'medical': 3, 'equipment': 4, 'medicines': 0, 'result': 2, 'inefficient': 5, 'budgeting': 3, 'ill-management': 5, 'finances': 0, 'problems': 2, 'solved': 0, 'lead': 2, 'costs': 1, 'efficient': 4, 'allocation': 5, 'admission': 4, 'prediction': 4, 'facilitate': 5, 'improvement': 4, 'daily': 2, 'operations': 5, 'effect': 2, 'recency': 2, 'bias': 2, 'importance': 4, 'recent': 2, 'events': 2, 'older': 2, 'incorrect': 3, 'decisions': 4, 'helps': 1, 'preventing': 3, 'fraudulent': 4, 'activities': 0, 'turn': 1, 'prevents': 2, 'losses': 0, 'insurance': 4, 'companies': 0, 'changing': 2, 'easy': 2, 'reap': 2, 'challenges': 0, 'vulnerabilities': 0, 'attached': 0, 'implementation': 6, 'biggest': 2, 'security': 3, 'personal': 3, 'history': 2, 'Acts': 1, 'hacking': 2, 'cyber': 1, 'theft': 1, 'phishing': 2, 'pose': 2, 'threat': 2, 'databases': 0, 'stolen': 2, 'sold': 1, 'sums': 1, 'money': 2, 'Protection': 4, '’': 0, 'privacy': 2, 'challenge': 3, 'external': 3, 'organization': 6, 'legal': 2, 'compliances': 0, 'government': 3, 'policies': 0, 'Privacy': 2, 'utmost': 2, 'breach': 2, 'kind': 1, 'permitted': 0, 'classification': 6, 'modeling': 3, 'massive': 3, 'heterogeneous': 7, 'Classifying': 3, 'relevant': 3, 'equally': 3, 'difficult': 3, 'Storage': 3, 'retrieval': 4, 'major': 2, 'Huge': 2, 'cloud': 2, 'servers': 2, 'space': 2, 'required': 0, 'speed': 0, 'high': 1, 'uploading': 4, 'hassle-free': 4, 'storage': 3, 'matter': 2, 'Integrating': 4, 'systems': 1, 'link': 1, 'tough': 2, 'job': 1, 'opinion': 4, 'Finding': 2, 'talent': 2, 'expertise': 4, 'implement': 3, 'arduous': 4, 'task': 1, 'Shortage': 3, 'crisis': 2, 'market': 2, 'today': 2, 'hiring': 2, 'retain': 3, 'Scarce': 2, 'resources': 0, 'scientists': 3, 'find': 1, 'harder': 2, 'poached': 0, 'competitors': 4, 'good': 2, 'compensation': 5, 'conducive': 4, 'work': 1, 'environment': 4, 'incentives': 0, 'career': 3, 'growth': 1, 'development': 4, 'retaining': 4, 'intellectual': 5, 'nutshell': 2, 'conclude': 3, 'bring': 1, 'landmark': 2, 'addressed': 0, 'sense': 2, 'responsibility': 5, 'Subhasmita': 4, 'Dey': 1, 'Xavier': 3, 'School': 2, 'Human': 2, 'Resource': 4, 'Management': 4, 'XUB': 1, 'TAGSdiseasehealthcare': 9, 'systemhigh': 2, 'incentivesmassive': 7, 'datapredictive': 6, 'Previous': 4, 'articleObstacles': 0, 'data-driven': 4, 'HealthcareNext': 5, 'articleBusiness': 6, 'Industry': 2, 'Advertisement': 5, 'EDITOR': 3, 'PICKS': 1, 'POPULAR': 3, 'POSTS': 1, 'CATEGORYWhat': 4, 'Think166Our': 3, 'Stories126Blackcoffer118Healthcare52Artificial': 15, 'Intelligence51IT46Big': 7, 'Data44Lifestyle': 5, 'Place38': 2, 'Newspaper': 3, 'news': 1, 'entertainment': 5, 'music': 2, 'fashion': 3, 'website': 3, 'latest': 2, 'breaking': 3, 'videos': 3, 'straight': 2, 'contact': 2, 'yoursite.com': 5, 'BloggerFacebookFlickrInstagramVKontakte': 13, '©': 0, 'WordPress': 2, 'Theme': 2, 'TagDiv': 2}\n"
          ]
        }
      ]
    },
    {
      "cell_type": "code",
      "source": [
        "tokens = nltk.word_tokenize(clean_text)\n",
        "Total_score=(len(tokens))\n",
        "#print(Total_score)\n",
        "\n",
        "positive_words = open(\"/content/drive/My Drive/DataScience_output/MasterDictionary/positive-words.txt\").read()\n",
        "#print(positive_words)\n",
        "negative_words = open(\"/content/drive/My Drive/DataScience_output/MasterDictionary/negative-words.txt\").read()\n",
        "#print(negative_words)\n",
        "positive_score=Total_score\n",
        "negative_score=Total_score\n",
        "for token in tokens:\n",
        "  if token in positive_words:\n",
        "    positive_score+=1\n",
        "\n",
        "  if token in negative_words:\n",
        "    negative_score-=1\n",
        "\n",
        "print(positive_score)#E\n",
        "print(negative_score)#F\n"
      ],
      "metadata": {
        "id": "zIWHbOn1YZCp",
        "colab": {
          "base_uri": "https://localhost:8080/"
        },
        "outputId": "2ec7451a-fc46-40f1-8638-9d82117f7936"
      },
      "execution_count": null,
      "outputs": [
        {
          "output_type": "stream",
          "name": "stdout",
          "text": [
            "1264\n",
            "1056\n"
          ]
        }
      ]
    },
    {
      "cell_type": "code",
      "source": [
        "PolarityScore = (int(positive_score) - int(negative_score))/(int(positive_score + int(negative_score) + 0.000001))\n",
        "print(PolarityScore)#G\n",
        "\n",
        "SubjectivityScore = (int(positive_score) + int(negative_score))/(int(num_words) + 0.000001)\n",
        "print(SubjectivityScore)#H\n"
      ],
      "metadata": {
        "id": "zyPCVcaIgmZV",
        "colab": {
          "base_uri": "https://localhost:8080/"
        },
        "outputId": "500e30cc-2b1e-43b9-a192-2435643190ce"
      },
      "execution_count": null,
      "outputs": [
        {
          "output_type": "stream",
          "name": "stdout",
          "text": [
            "0.0896551724137931\n",
            "1.9578059055208388\n"
          ]
        }
      ]
    },
    {
      "cell_type": "code",
      "source": [
        "# To find the average number of words per sentece and the average sentence length\n",
        "Avg_num_words=int( num_words)/int(num_sentences)\n",
        "print(float(Avg_num_words))#L and I\n",
        "\n",
        "#print(num_words)\n",
        "#print(num_sentences)"
      ],
      "metadata": {
        "id": "LVti5PqSlRbK",
        "colab": {
          "base_uri": "https://localhost:8080/"
        },
        "outputId": "1bf4c902-f39c-4d99-cb46-c15cb0921bec"
      },
      "execution_count": null,
      "outputs": [
        {
          "output_type": "stream",
          "name": "stdout",
          "text": [
            "15.592105263157896\n"
          ]
        }
      ]
    },
    {
      "cell_type": "code",
      "source": [
        "#Percentage of Complex words\n",
        "percentage_CW=int(complex_word_count)/int(num_words)\n",
        "print(percentage_CW)\n",
        "#Fog Index\n",
        "# Convert the number to a percentage string with two decimal places\n",
        "percentage_Cw = '{:.2%}'.format(percentage_CW)\n",
        "print(percentage_Cw)\n",
        "percentage_str = percentage_Cw.strip('%')\n",
        "percentage = float(percentage_str)#J\n",
        "\n",
        "fog_index=0.4*(int(Avg_num_words)+int(percentage))\n",
        "print(fog_index)#K\n",
        "\n"
      ],
      "metadata": {
        "id": "hWJ0_MzEqlpZ",
        "colab": {
          "base_uri": "https://localhost:8080/"
        },
        "outputId": "f4836602-7116-4983-c46c-a81d7dc50faf"
      },
      "execution_count": null,
      "outputs": [
        {
          "output_type": "stream",
          "name": "stdout",
          "text": [
            "0.7755274261603375\n",
            "77.55%\n",
            "36.800000000000004\n"
          ]
        }
      ]
    },
    {
      "cell_type": "code",
      "source": [
        "import re\n",
        "#Average Word Length-Q\n",
        "\n",
        "Avr_word_l=int(num_charc)/int(num_words)\n",
        "print(Avr_word_l)\n",
        "\n",
        "\n",
        "\n",
        "text = clean_text.split()\n",
        "#print(text)\n",
        "\n",
        "# To define a regular expression to match personal pronouns\n",
        "regex = r\"\\b(I|we|my|ours|us)\\b\"\n",
        "\n",
        "# using the findall() method to count the number of matches\n",
        "matches = re.findall(regex, clean_text, flags=re.IGNORECASE)\n",
        "\n",
        "print(len(matches))"
      ],
      "metadata": {
        "id": "PSWyTTmnsq0Y",
        "colab": {
          "base_uri": "https://localhost:8080/"
        },
        "outputId": "44202e5c-05e0-4ec3-884e-8278173e519f"
      },
      "execution_count": null,
      "outputs": [
        {
          "output_type": "stream",
          "name": "stdout",
          "text": [
            "7.756962025316455\n",
            "0\n"
          ]
        }
      ]
    },
    {
      "cell_type": "code",
      "source": [],
      "metadata": {
        "id": "9YZD1rgyLqts"
      },
      "execution_count": null,
      "outputs": []
    }
  ]
}